{
 "cells": [
  {
   "cell_type": "code",
   "execution_count": 2,
   "metadata": {
    "scrolled": false
   },
   "outputs": [],
   "source": [
    "import extract\n",
    "import transform\n",
    "import loader\n",
    "\n",
    "def main():\n",
    "    df = extract.extract_museums()\n",
    "    name_df = transform.transform_museums_by_name(df)\n",
    "    address_df = transform.transform_museums_by_address(df)\n",
    "    aam_df = transform.transform_museums_by_aam(df)\n",
    "\n",
    "    loader.loads(name_df)\n",
    "    loader.loads(address_df)\n",
    "    loader.loads(aam_df)\n"
   ]
  },
  {
   "cell_type": "code",
   "execution_count": null,
   "metadata": {},
   "outputs": [],
   "source": []
  }
 ],
 "metadata": {
  "kernelspec": {
   "display_name": "Python 3",
   "language": "python",
   "name": "python3"
  },
  "language_info": {
   "codemirror_mode": {
    "name": "ipython",
    "version": 3
   },
   "file_extension": ".py",
   "mimetype": "text/x-python",
   "name": "python",
   "nbconvert_exporter": "python",
   "pygments_lexer": "ipython3",
   "version": "3.7.1"
  }
 },
 "nbformat": 4,
 "nbformat_minor": 2
}
